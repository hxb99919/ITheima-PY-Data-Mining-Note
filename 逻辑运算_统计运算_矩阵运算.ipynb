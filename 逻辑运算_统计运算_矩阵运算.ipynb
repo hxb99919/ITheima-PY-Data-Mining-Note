{
 "cells": [
  {
   "cell_type": "code",
   "execution_count": 17,
   "metadata": {},
   "outputs": [],
   "source": [
    "import numpy as np\n",
    "stock_change = np.random.normal(loc=0, scale=1, size=(8, 10))    # 8是8个列表股票， 10是10天, 生成的是一个二维数组"
   ]
  },
  {
   "cell_type": "code",
   "execution_count": 32,
   "metadata": {
    "scrolled": true
   },
   "outputs": [
    {
     "data": {
      "text/plain": [
       "array([[ 0.26625673,  0.22626729,  0.33018776, -0.77039285,  1.1       ,\n",
       "         1.1       , -0.28298564, -0.73305017, -1.0002275 , -0.4176792 ],\n",
       "       [ 1.1       ,  1.1       ,  1.1       ,  0.2987972 ,  1.1       ,\n",
       "        -0.26171509, -0.5312818 ,  0.29954042, -0.29697824,  1.1       ],\n",
       "       [-0.73858731, -0.55980198, -0.58424396, -0.81942324, -1.24105187,\n",
       "        -1.24203236, -1.11057786,  0.38941405,  0.26492695, -0.84461079],\n",
       "       [ 0.03093299, -1.57553085, -1.24742813,  1.1       , -0.94105419,\n",
       "        -1.1550871 ,  1.1       ,  1.1       ,  0.2551404 , -0.35682679],\n",
       "       [-0.07707965,  0.30550267, -0.30174488,  1.1       , -1.61949707,\n",
       "        -1.34063498,  1.1       , -0.8818434 ,  0.33481671, -0.02777665],\n",
       "       [ 1.1       , -1.14752339, -1.81857403, -0.2684595 ,  1.1       ,\n",
       "        -2.04854849,  0.08446703, -0.78567684,  1.1       ,  0.27680066],\n",
       "       [ 0.00878591,  1.1       ,  0.34407525,  1.1       ,  0.31835269,\n",
       "         0.15578901, -0.35917903,  1.1       , -2.95855662, -1.2758574 ],\n",
       "       [ 1.1       , -0.46253137, -2.01626025,  1.1       , -0.284194  ,\n",
       "         0.09967616,  0.45458971, -0.24592567,  1.1       ,  1.1       ]])"
      ]
     },
     "execution_count": 32,
     "metadata": {},
     "output_type": "execute_result"
    }
   ],
   "source": [
    "stock_change"
   ]
  },
  {
   "cell_type": "code",
   "execution_count": 33,
   "metadata": {},
   "outputs": [
    {
     "data": {
      "text/plain": [
       "(array([[ True,  True,  True, False,  True,  True, False, False, False,\n",
       "         False],\n",
       "        [ True,  True,  True,  True,  True, False, False,  True, False,\n",
       "          True],\n",
       "        [False, False, False, False, False, False, False,  True,  True,\n",
       "         False],\n",
       "        [ True, False, False,  True, False, False,  True,  True,  True,\n",
       "         False],\n",
       "        [False,  True, False,  True, False, False,  True, False,  True,\n",
       "         False],\n",
       "        [ True, False, False, False,  True, False,  True, False,  True,\n",
       "          True],\n",
       "        [ True,  True,  True,  True,  True,  True, False,  True, False,\n",
       "         False],\n",
       "        [ True, False, False,  True, False,  True,  True, False,  True,\n",
       "          True]]),\n",
       " 5)"
      ]
     },
     "execution_count": 33,
     "metadata": {},
     "output_type": "execute_result"
    }
   ],
   "source": [
    "# 逻辑判断，如果涨跌幅大于0.5就标记为True 否则为False\n",
    "stock_change > 0,5"
   ]
  },
  {
   "cell_type": "code",
   "execution_count": 34,
   "metadata": {},
   "outputs": [],
   "source": [
    "stock_change[stock_change > 0.5] = 1.1   # 筛选出> 0.5的数据 "
   ]
  },
  {
   "cell_type": "code",
   "execution_count": 35,
   "metadata": {},
   "outputs": [
    {
     "data": {
      "text/plain": [
       "array([[ 0.26625673,  0.22626729,  0.33018776, -0.77039285,  1.1       ,\n",
       "         1.1       , -0.28298564, -0.73305017, -1.0002275 , -0.4176792 ],\n",
       "       [ 1.1       ,  1.1       ,  1.1       ,  0.2987972 ,  1.1       ,\n",
       "        -0.26171509, -0.5312818 ,  0.29954042, -0.29697824,  1.1       ],\n",
       "       [-0.73858731, -0.55980198, -0.58424396, -0.81942324, -1.24105187,\n",
       "        -1.24203236, -1.11057786,  0.38941405,  0.26492695, -0.84461079],\n",
       "       [ 0.03093299, -1.57553085, -1.24742813,  1.1       , -0.94105419,\n",
       "        -1.1550871 ,  1.1       ,  1.1       ,  0.2551404 , -0.35682679],\n",
       "       [-0.07707965,  0.30550267, -0.30174488,  1.1       , -1.61949707,\n",
       "        -1.34063498,  1.1       , -0.8818434 ,  0.33481671, -0.02777665],\n",
       "       [ 1.1       , -1.14752339, -1.81857403, -0.2684595 ,  1.1       ,\n",
       "        -2.04854849,  0.08446703, -0.78567684,  1.1       ,  0.27680066],\n",
       "       [ 0.00878591,  1.1       ,  0.34407525,  1.1       ,  0.31835269,\n",
       "         0.15578901, -0.35917903,  1.1       , -2.95855662, -1.2758574 ],\n",
       "       [ 1.1       , -0.46253137, -2.01626025,  1.1       , -0.284194  ,\n",
       "         0.09967616,  0.45458971, -0.24592567,  1.1       ,  1.1       ]])"
      ]
     },
     "execution_count": 35,
     "metadata": {},
     "output_type": "execute_result"
    }
   ],
   "source": [
    "stock_change"
   ]
  },
  {
   "cell_type": "markdown",
   "metadata": {},
   "source": [
    "### 通用判断函数"
   ]
  },
  {
   "cell_type": "code",
   "execution_count": 38,
   "metadata": {},
   "outputs": [
    {
     "data": {
      "text/plain": [
       "array([[ 0.26625673,  0.22626729,  0.33018776, -0.77039285,  1.1       ],\n",
       "       [ 1.1       ,  1.1       ,  1.1       ,  0.2987972 ,  1.1       ]])"
      ]
     },
     "execution_count": 38,
     "metadata": {},
     "output_type": "execute_result"
    }
   ],
   "source": [
    "# 判断stock_change[0:2, 0:5]是否全是上涨的\n",
    "stock_change[0:2, 0:5]    \n",
    "# 我也不知道为什么取出了第一个数组的前5个和第二个数组的前5个 应该是左闭右开吧\n",
    "# 二维数组，省略了步长"
   ]
  },
  {
   "cell_type": "code",
   "execution_count": 39,
   "metadata": {},
   "outputs": [
    {
     "data": {
      "text/plain": [
       "array([[ True,  True,  True, False,  True],\n",
       "       [ True,  True,  True,  True,  True]])"
      ]
     },
     "execution_count": 39,
     "metadata": {},
     "output_type": "execute_result"
    }
   ],
   "source": [
    "stock_change[0:2, 0:5] > 0"
   ]
  },
  {
   "cell_type": "code",
   "execution_count": 40,
   "metadata": {},
   "outputs": [
    {
     "data": {
      "text/plain": [
       "False"
      ]
     },
     "execution_count": 40,
     "metadata": {},
     "output_type": "execute_result"
    }
   ],
   "source": [
    "np.all(stock_change[0:2, 0:5] > 0)    # np.all需要全部为True才能输出True"
   ]
  },
  {
   "cell_type": "code",
   "execution_count": 41,
   "metadata": {},
   "outputs": [
    {
     "data": {
      "text/plain": [
       "True"
      ]
     },
     "execution_count": 41,
     "metadata": {},
     "output_type": "execute_result"
    }
   ],
   "source": [
    "### 判断前5只股票这段期间是否任意一只有上涨\n",
    "np.any(stock_change[0:5, :] > 0)"
   ]
  },
  {
   "cell_type": "markdown",
   "metadata": {},
   "source": [
    "### np.where（三元运算符）"
   ]
  },
  {
   "cell_type": "code",
   "execution_count": 49,
   "metadata": {},
   "outputs": [],
   "source": [
    "# 判断前四个股票前四天的涨跌幅 大于0的置为1， 否则为0\n",
    "temp = stock_change[:4, :4]"
   ]
  },
  {
   "cell_type": "code",
   "execution_count": 50,
   "metadata": {},
   "outputs": [
    {
     "data": {
      "text/plain": [
       "array([[ 0.26625673,  0.22626729,  0.33018776, -0.77039285],\n",
       "       [ 1.1       ,  1.1       ,  1.1       ,  0.2987972 ],\n",
       "       [-0.73858731, -0.55980198, -0.58424396, -0.81942324],\n",
       "       [ 0.03093299, -1.57553085, -1.24742813,  1.1       ]])"
      ]
     },
     "execution_count": 50,
     "metadata": {},
     "output_type": "execute_result"
    }
   ],
   "source": [
    "temp"
   ]
  },
  {
   "cell_type": "code",
   "execution_count": 55,
   "metadata": {},
   "outputs": [
    {
     "data": {
      "text/plain": [
       "array([[1, 1, 1, 0],\n",
       "       [1, 1, 1, 1],\n",
       "       [0, 0, 0, 0],\n",
       "       [1, 0, 0, 1]])"
      ]
     },
     "execution_count": 55,
     "metadata": {},
     "output_type": "execute_result"
    }
   ],
   "source": [
    "np.where(temp > 0, 1, 0)    # 判断temp>0的情况下，如果True 输出1，否则为0"
   ]
  },
  {
   "cell_type": "code",
   "execution_count": 56,
   "metadata": {},
   "outputs": [
    {
     "data": {
      "text/plain": [
       "array([[ True,  True,  True, False],\n",
       "       [ True,  True,  True,  True],\n",
       "       [False, False, False, False],\n",
       "       [ True, False, False,  True]])"
      ]
     },
     "execution_count": 56,
     "metadata": {},
     "output_type": "execute_result"
    }
   ],
   "source": [
    "# 可以用以下步骤实现同样的显示结果\n",
    "temp >0"
   ]
  },
  {
   "cell_type": "code",
   "execution_count": 57,
   "metadata": {},
   "outputs": [
    {
     "data": {
      "text/plain": [
       "array([[1, 1, 1, 0],\n",
       "       [1, 1, 1, 1],\n",
       "       [0, 0, 0, 0],\n",
       "       [1, 0, 0, 1]])"
      ]
     },
     "execution_count": 57,
     "metadata": {},
     "output_type": "execute_result"
    }
   ],
   "source": [
    "np.where([[ True,  True,  True, False],\n",
    "       [ True,  True,  True,  True],\n",
    "       [False, False, False, False],\n",
    "       [ True, False, False,  True]], 1, 0)\n",
    "\n",
    "# 得出结果"
   ]
  },
  {
   "cell_type": "code",
   "execution_count": 58,
   "metadata": {},
   "outputs": [
    {
     "data": {
      "text/plain": [
       "array([[False, False, False, False],\n",
       "       [False, False, False, False],\n",
       "       [False, False, False, False],\n",
       "       [False, False, False, False]])"
      ]
     },
     "execution_count": 58,
     "metadata": {},
     "output_type": "execute_result"
    }
   ],
   "source": [
    "# 复合逻辑判断\n",
    "# 判断前四个股票前四天的涨跌幅 大于0.5并且小于1的 输出1，否则为0\n",
    "# 判断前四个股票前四天的涨跌幅 大于0.5或者小于-0.5的 输出1，否则为0\n",
    "np.logical_and(temp > 0.5, temp < 1) "
   ]
  },
  {
   "cell_type": "code",
   "execution_count": 61,
   "metadata": {},
   "outputs": [
    {
     "data": {
      "text/plain": [
       "array([[0, 0, 0, 0],\n",
       "       [0, 0, 0, 0],\n",
       "       [0, 0, 0, 0],\n",
       "       [0, 0, 0, 0]])"
      ]
     },
     "execution_count": 61,
     "metadata": {},
     "output_type": "execute_result"
    }
   ],
   "source": [
    "np.where([[False, False, False, False],\n",
    "       [False, False, False, False],\n",
    "       [False, False, False, False],\n",
    "       [False, False, False, False]], 1, 0)"
   ]
  },
  {
   "cell_type": "code",
   "execution_count": 67,
   "metadata": {},
   "outputs": [
    {
     "data": {
      "text/plain": [
       "array([[0, 0, 0, 0],\n",
       "       [0, 0, 0, 0],\n",
       "       [0, 0, 0, 0],\n",
       "       [0, 0, 0, 0]])"
      ]
     },
     "execution_count": 67,
     "metadata": {},
     "output_type": "execute_result"
    }
   ],
   "source": [
    "np.where(np.logical_and(temp > 0.5, temp < 1), 1, 0) \n",
    "# 简化的写法"
   ]
  },
  {
   "cell_type": "code",
   "execution_count": 70,
   "metadata": {},
   "outputs": [
    {
     "data": {
      "text/plain": [
       "array([[False, False, False,  True],\n",
       "       [ True,  True,  True, False],\n",
       "       [ True,  True,  True,  True],\n",
       "       [False,  True,  True,  True]])"
      ]
     },
     "execution_count": 70,
     "metadata": {},
     "output_type": "execute_result"
    }
   ],
   "source": [
    "np.logical_or(temp > 0.5, temp < -0.5) "
   ]
  },
  {
   "cell_type": "code",
   "execution_count": 72,
   "metadata": {},
   "outputs": [
    {
     "data": {
      "text/plain": [
       "array([[0, 0, 0, 1],\n",
       "       [1, 1, 1, 0],\n",
       "       [1, 1, 1, 1],\n",
       "       [0, 1, 1, 1]])"
      ]
     },
     "execution_count": 72,
     "metadata": {},
     "output_type": "execute_result"
    }
   ],
   "source": [
    "np.where(np.logical_or(temp > 0.5, temp < -0.5), 1, 0) "
   ]
  },
  {
   "cell_type": "code",
   "execution_count": 78,
   "metadata": {},
   "outputs": [
    {
     "data": {
      "text/plain": [
       "array([[ 0.26625673,  0.22626729,  0.33018776, -0.77039285],\n",
       "       [ 1.1       ,  1.1       ,  1.1       ,  0.2987972 ],\n",
       "       [-0.73858731, -0.55980198, -0.58424396, -0.81942324],\n",
       "       [ 0.03093299, -1.57553085, -1.24742813,  1.1       ]])"
      ]
     },
     "execution_count": 78,
     "metadata": {},
     "output_type": "execute_result"
    }
   ],
   "source": [
    "# 股票涨跌幅统计运算\n",
    "temp"
   ]
  },
  {
   "cell_type": "code",
   "execution_count": 95,
   "metadata": {},
   "outputs": [
    {
     "data": {
      "text/plain": [
       "array([ 0.33018776,  1.1       , -0.55980198,  1.1       ])"
      ]
     },
     "execution_count": 95,
     "metadata": {},
     "output_type": "execute_result"
    }
   ],
   "source": [
    "temp.max(axis=1)    # axies的理解 https://blog.csdn.net/sky_kkk/article/details/79725646"
   ]
  },
  {
   "cell_type": "code",
   "execution_count": 91,
   "metadata": {},
   "outputs": [
    {
     "data": {
      "text/plain": [
       "array([ 0.33018776,  1.1       , -0.55980198,  1.1       ])"
      ]
     },
     "execution_count": 91,
     "metadata": {},
     "output_type": "execute_result"
    }
   ],
   "source": [
    "np.max(temp, axis=-1)"
   ]
  },
  {
   "cell_type": "code",
   "execution_count": 92,
   "metadata": {},
   "outputs": [
    {
     "data": {
      "text/plain": [
       "array([2, 0, 1, 3], dtype=int64)"
      ]
     },
     "execution_count": 92,
     "metadata": {},
     "output_type": "execute_result"
    }
   ],
   "source": [
    "np.argmax(temp, axis=1)    # 标出列表中元素的下表"
   ]
  },
  {
   "cell_type": "code",
   "execution_count": 100,
   "metadata": {},
   "outputs": [
    {
     "name": "stdout",
     "output_type": "stream",
     "text": [
      "[[12 14]\n",
      " [16 18]]\n",
      "[[12 14]\n",
      " [16 18]]\n",
      "[[ 4  6]\n",
      " [24 26]]\n",
      "[[ 4  6]\n",
      " [24 26]]\n",
      "[[ 3  7]\n",
      " [23 27]]\n",
      "[[ 3  7]\n",
      " [23 27]]\n"
     ]
    }
   ],
   "source": [
    "# axis=0对应着最外层的[]，axis=1对应第二外层的[]，以此类推，axis=n对应第n外层的[]。\n",
    "# axis=-n,-n+1,...,-3,-2,-1都是可以的。0,1,2,3,...\n",
    "# 是从外开始剥，-n,-n+1,...,-3,-2,-1是从里开始剥。大家可以用下面的代码理解一下。\n",
    "import numpy as np\n",
    "a=np.array([[[1,2],[3,4]],[[11,12],[13,14]]])\n",
    "print(a.sum(axis = 0))\n",
    " \n",
    "b=np.array([[[1,2],[3,4]],[[11,12],[13,14]]])\n",
    "print(b.sum(axis = -3))\n",
    " \n",
    "c=np.array([[[1,2],[3,4]],[[11,12],[13,14]]])\n",
    "print(c.sum(axis = 1))\n",
    " \n",
    "d=np.array([[[1,2],[3,4]],[[11,12],[13,14]]])\n",
    "print(d.sum(axis = -2))\n",
    " \n",
    "e=np.array([[[1,2],[3,4]],[[11,12],[13,14]]])\n",
    "print(e.sum(axis = 2))\n",
    " \n",
    "f=np.array([[[1,2],[3,4]],[[11,12],[13,14]]])\n",
    "print(f.sum(axis = -1))"
   ]
  },
  {
   "cell_type": "markdown",
   "metadata": {},
   "source": [
    "### 数组与数的运算"
   ]
  },
  {
   "cell_type": "code",
   "execution_count": 4,
   "metadata": {},
   "outputs": [],
   "source": [
    "import numpy as np\n",
    "arr = np.array([[1, 2, 3, 2, 1, 4], [5, 6, 1, 2, 3, 1]])"
   ]
  },
  {
   "cell_type": "code",
   "execution_count": 5,
   "metadata": {},
   "outputs": [
    {
     "data": {
      "text/plain": [
       "array([[1, 2, 3, 2, 1, 4],\n",
       "       [5, 6, 1, 2, 3, 1]])"
      ]
     },
     "execution_count": 5,
     "metadata": {},
     "output_type": "execute_result"
    }
   ],
   "source": [
    "arr"
   ]
  },
  {
   "cell_type": "code",
   "execution_count": 6,
   "metadata": {},
   "outputs": [],
   "source": [
    "arr1 = np.array([[1, 2, 3, 2, 1, 4], [5, 6, 1, 2, 3, 1]])\n",
    "arr2 = np.array([[1, 2, 3, 4],[3, 4, 5, 6]])\n",
    "# arr1 + arr2 会出错，因为它们行，列不同\n",
    "# 视频里后面讲的是多维数组之间相加或者相乘\n",
    "# https://www.cnblogs.com/jiaxin359/p/9021726.html 这篇博客写得浅显易懂"
   ]
  },
  {
   "cell_type": "markdown",
   "metadata": {},
   "source": [
    "### 矩阵乘法运算"
   ]
  },
  {
   "cell_type": "code",
   "execution_count": 19,
   "metadata": {},
   "outputs": [],
   "source": [
    "import numpy as np\n",
    "# 形状改变：（M行，N列）x（N行，L列）=（M行，L列）\n",
    "# 矩阵乘法api\n",
    "\n",
    "a = np.array([[80, 86],    #a.shape = (8,2)\n",
    "[82, 80],\n",
    "[85, 78],\n",
    "[90, 90],\n",
    "[86, 82],\n",
    "[82, 90],\n",
    "[78, 80],\n",
    "[92, 94]])\n",
    "\n",
    "# matrix存储矩阵\n",
    "a_mat = np.mat([[80, 86],    #a.shape = (8,2)\n",
    "[82, 80],\n",
    "[85, 78],\n",
    "[90, 90],\n",
    "[86, 82],\n",
    "[82, 90],\n",
    "[78, 80],\n",
    "[92, 94]])\n",
    "\n",
    "b = np.array([[0.3], [0.7]])    #b.shape = (2,1)\n",
    "\n",
    "b_mat = np.mat([[0.3], [0.7]])\n"
   ]
  },
  {
   "cell_type": "code",
   "execution_count": 20,
   "metadata": {},
   "outputs": [
    {
     "data": {
      "text/plain": [
       "matrix([[0.3],\n",
       "        [0.7]])"
      ]
     },
     "execution_count": 20,
     "metadata": {},
     "output_type": "execute_result"
    }
   ],
   "source": [
    "b_mat"
   ]
  },
  {
   "cell_type": "code",
   "execution_count": 21,
   "metadata": {},
   "outputs": [
    {
     "data": {
      "text/plain": [
       "' \\nnp.dot与np.matmul的区别\\n1.二者都是矩阵乘法。\\n2.np.matmul中禁止矩阵与标量的乘法。\\n3.在矢量乘矢量的內积运算中，np.matmul与np.dot没有区别。\\n4.np.matmul中，多维的矩阵，将前n-2维视为后2维的元素后，进行乘法运算。\\n'"
      ]
     },
     "execution_count": 21,
     "metadata": {},
     "output_type": "execute_result"
    }
   ],
   "source": [
    "''' \n",
    "np.dot与np.matmul的区别\n",
    "1.二者都是矩阵乘法。\n",
    "2.np.matmul中禁止矩阵与标量的乘法。\n",
    "3.在矢量乘矢量的內积运算中，np.matmul与np.dot没有区别。\n",
    "4.np.matmul中，多维的矩阵，将前n-2维视为后2维的元素后，进行乘法运算。\n",
    "'''"
   ]
  },
  {
   "cell_type": "code",
   "execution_count": 22,
   "metadata": {},
   "outputs": [
    {
     "data": {
      "text/plain": [
       "array([[84.2],\n",
       "       [80.6],\n",
       "       [80.1],\n",
       "       [90. ],\n",
       "       [83.2],\n",
       "       [87.6],\n",
       "       [79.4],\n",
       "       [93.4]])"
      ]
     },
     "execution_count": 22,
     "metadata": {},
     "output_type": "execute_result"
    }
   ],
   "source": [
    "np.matmul(a, b)"
   ]
  },
  {
   "cell_type": "code",
   "execution_count": 23,
   "metadata": {},
   "outputs": [
    {
     "data": {
      "text/plain": [
       "matrix([[84.2],\n",
       "        [80.6],\n",
       "        [80.1],\n",
       "        [90. ],\n",
       "        [83.2],\n",
       "        [87.6],\n",
       "        [79.4],\n",
       "        [93.4]])"
      ]
     },
     "execution_count": 23,
     "metadata": {},
     "output_type": "execute_result"
    }
   ],
   "source": [
    "np.matmul(a_mat, b_mat)    # 矩阵相乘"
   ]
  },
  {
   "cell_type": "code",
   "execution_count": 24,
   "metadata": {},
   "outputs": [
    {
     "data": {
      "text/plain": [
       "matrix([[84.2],\n",
       "        [80.6],\n",
       "        [80.1],\n",
       "        [90. ],\n",
       "        [83.2],\n",
       "        [87.6],\n",
       "        [79.4],\n",
       "        [93.4]])"
      ]
     },
     "execution_count": 24,
     "metadata": {},
     "output_type": "execute_result"
    }
   ],
   "source": [
    "np.dot(a_mat, b_mat)    "
   ]
  },
  {
   "cell_type": "code",
   "execution_count": 25,
   "metadata": {},
   "outputs": [
    {
     "data": {
      "text/plain": [
       "matrix([[84.2],\n",
       "        [80.6],\n",
       "        [80.1],\n",
       "        [90. ],\n",
       "        [83.2],\n",
       "        [87.6],\n",
       "        [79.4],\n",
       "        [93.4]])"
      ]
     },
     "execution_count": 25,
     "metadata": {},
     "output_type": "execute_result"
    }
   ],
   "source": [
    "a_mat * b_mat"
   ]
  },
  {
   "cell_type": "code",
   "execution_count": 26,
   "metadata": {},
   "outputs": [
    {
     "data": {
      "text/plain": [
       "array([[84.2],\n",
       "       [80.6],\n",
       "       [80.1],\n",
       "       [90. ],\n",
       "       [83.2],\n",
       "       [87.6],\n",
       "       [79.4],\n",
       "       [93.4]])"
      ]
     },
     "execution_count": 26,
     "metadata": {},
     "output_type": "execute_result"
    }
   ],
   "source": [
    "a @ b"
   ]
  },
  {
   "cell_type": "code",
   "execution_count": null,
   "metadata": {},
   "outputs": [],
   "source": []
  },
  {
   "cell_type": "code",
   "execution_count": null,
   "metadata": {},
   "outputs": [],
   "source": []
  }
 ],
 "metadata": {
  "kernelspec": {
   "display_name": "Python 3",
   "language": "python",
   "name": "python3"
  },
  "language_info": {
   "codemirror_mode": {
    "name": "ipython",
    "version": 3
   },
   "file_extension": ".py",
   "mimetype": "text/x-python",
   "name": "python",
   "nbconvert_exporter": "python",
   "pygments_lexer": "ipython3",
   "version": "3.8.5"
  }
 },
 "nbformat": 4,
 "nbformat_minor": 4
}
