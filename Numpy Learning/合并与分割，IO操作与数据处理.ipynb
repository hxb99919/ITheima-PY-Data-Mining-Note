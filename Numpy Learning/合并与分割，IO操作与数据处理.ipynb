{
 "cells": [
  {
   "cell_type": "code",
   "execution_count": 4,
   "metadata": {},
   "outputs": [],
   "source": [
    "import numpy as np\n",
    "stock_change = np.random.normal(loc=0, scale=1, size=(8, 10)) \n",
    "stock_change[stock_change > 0.5] = 1.1"
   ]
  },
  {
   "cell_type": "code",
   "execution_count": 6,
   "metadata": {},
   "outputs": [
    {
     "data": {
      "text/plain": [
       "array([[ 1.1       ,  0.28520023,  1.1       , -0.50130067,  1.1       ,\n",
       "         0.15788752, -0.31097313, -0.92697568, -0.23714903,  1.1       ],\n",
       "       [ 1.1       , -0.6976564 , -1.57465049, -1.39945863,  0.46014845,\n",
       "        -0.02636874,  1.1       ,  0.28649177,  1.1       , -1.10445816],\n",
       "       [ 1.1       ,  0.21877993, -1.31172162,  1.1       , -0.72966108,\n",
       "        -1.40265672,  0.25204688,  1.1       ,  0.07498743, -1.41100713],\n",
       "       [ 1.1       , -0.62903975,  0.2464008 ,  1.1       , -1.26872408,\n",
       "        -1.10699607,  0.07327727,  0.23669136, -0.68436541,  1.1       ],\n",
       "       [ 0.47374118,  1.1       ,  0.1950066 , -0.22119788, -1.47804791,\n",
       "         1.1       ,  1.1       , -0.13801895, -0.90477722, -0.5338313 ],\n",
       "       [-1.59768256, -1.86372032, -1.79653706,  0.42386101,  0.11971698,\n",
       "        -0.57010681,  0.31868359,  1.1       ,  0.28181078, -1.10223519],\n",
       "       [ 1.1       , -0.83565651, -0.75776969, -0.01765257,  1.1       ,\n",
       "        -0.21422038,  1.1       , -0.83561949,  0.38565751, -0.71490007],\n",
       "       [ 1.1       ,  1.1       ,  0.16769406,  1.1       , -1.09635683,\n",
       "        -0.75958772,  0.11616786,  1.1       ,  0.39287199,  0.03605072]])"
      ]
     },
     "execution_count": 6,
     "metadata": {},
     "output_type": "execute_result"
    }
   ],
   "source": [
    "stock_change"
   ]
  },
  {
   "cell_type": "markdown",
   "metadata": {},
   "source": [
    "### 合并"
   ]
  },
  {
   "cell_type": "code",
   "execution_count": 8,
   "metadata": {},
   "outputs": [],
   "source": [
    "a = stock_change[:2, 0:4]\n",
    "b = stock_change[4:6, 0:4]"
   ]
  },
  {
   "cell_type": "code",
   "execution_count": 9,
   "metadata": {},
   "outputs": [
    {
     "data": {
      "text/plain": [
       "array([[ 1.1       ,  0.28520023,  1.1       , -0.50130067],\n",
       "       [ 1.1       , -0.6976564 , -1.57465049, -1.39945863]])"
      ]
     },
     "execution_count": 9,
     "metadata": {},
     "output_type": "execute_result"
    }
   ],
   "source": [
    "a"
   ]
  },
  {
   "cell_type": "code",
   "execution_count": 10,
   "metadata": {},
   "outputs": [
    {
     "data": {
      "text/plain": [
       "array([[ 0.47374118,  1.1       ,  0.1950066 , -0.22119788],\n",
       "       [-1.59768256, -1.86372032, -1.79653706,  0.42386101]])"
      ]
     },
     "execution_count": 10,
     "metadata": {},
     "output_type": "execute_result"
    }
   ],
   "source": [
    "b"
   ]
  },
  {
   "cell_type": "code",
   "execution_count": 12,
   "metadata": {},
   "outputs": [
    {
     "data": {
      "text/plain": [
       "array([[ 1.1       ,  0.28520023,  1.1       , -0.50130067,  0.47374118,\n",
       "         1.1       ,  0.1950066 , -0.22119788],\n",
       "       [ 1.1       , -0.6976564 , -1.57465049, -1.39945863, -1.59768256,\n",
       "        -1.86372032, -1.79653706,  0.42386101]])"
      ]
     },
     "execution_count": 12,
     "metadata": {},
     "output_type": "execute_result"
    }
   ],
   "source": [
    "np.hstack((a, b))    # 水平拼接"
   ]
  },
  {
   "cell_type": "code",
   "execution_count": 13,
   "metadata": {},
   "outputs": [
    {
     "data": {
      "text/plain": [
       "array([[ 1.1       ,  0.28520023,  1.1       , -0.50130067,  0.47374118,\n",
       "         1.1       ,  0.1950066 , -0.22119788],\n",
       "       [ 1.1       , -0.6976564 , -1.57465049, -1.39945863, -1.59768256,\n",
       "        -1.86372032, -1.79653706,  0.42386101]])"
      ]
     },
     "execution_count": 13,
     "metadata": {},
     "output_type": "execute_result"
    }
   ],
   "source": [
    "# https://www.cnblogs.com/shueixue/p/10953699.html  concatenate函数用法\n",
    "np.concatenate((a, b), axis=1)    # 与上面结果相同"
   ]
  },
  {
   "cell_type": "code",
   "execution_count": 15,
   "metadata": {},
   "outputs": [
    {
     "data": {
      "text/plain": [
       "array([[ 1.1       ,  0.28520023,  1.1       , -0.50130067],\n",
       "       [ 1.1       , -0.6976564 , -1.57465049, -1.39945863],\n",
       "       [ 0.47374118,  1.1       ,  0.1950066 , -0.22119788],\n",
       "       [-1.59768256, -1.86372032, -1.79653706,  0.42386101]])"
      ]
     },
     "execution_count": 15,
     "metadata": {},
     "output_type": "execute_result"
    }
   ],
   "source": [
    "np.vstack((a, b))    # 竖直拼接"
   ]
  },
  {
   "cell_type": "code",
   "execution_count": 16,
   "metadata": {},
   "outputs": [
    {
     "data": {
      "text/plain": [
       "array([[ 1.1       ,  0.28520023,  1.1       , -0.50130067],\n",
       "       [ 1.1       , -0.6976564 , -1.57465049, -1.39945863],\n",
       "       [ 0.47374118,  1.1       ,  0.1950066 , -0.22119788],\n",
       "       [-1.59768256, -1.86372032, -1.79653706,  0.42386101]])"
      ]
     },
     "execution_count": 16,
     "metadata": {},
     "output_type": "execute_result"
    }
   ],
   "source": [
    "np.concatenate((a, b), axis=0)    # 与上面结果相同"
   ]
  },
  {
   "cell_type": "code",
   "execution_count": 19,
   "metadata": {},
   "outputs": [
    {
     "data": {
      "text/plain": [
       "[array([0, 1, 2]), array([3, 4, 5]), array([6, 7, 8])]"
      ]
     },
     "execution_count": 19,
     "metadata": {},
     "output_type": "execute_result"
    }
   ],
   "source": [
    "# 分割示例\n",
    "x = np.arange(9)\n",
    "np.split(x, 3)"
   ]
  },
  {
   "cell_type": "code",
   "execution_count": 22,
   "metadata": {},
   "outputs": [
    {
     "data": {
      "text/plain": [
       "[array([0, 1, 2]),\n",
       " array([3, 4]),\n",
       " array([5]),\n",
       " array([6, 7, 8]),\n",
       " array([], dtype=int32)]"
      ]
     },
     "execution_count": 22,
     "metadata": {},
     "output_type": "execute_result"
    }
   ],
   "source": [
    "y = np.arange(9)\n",
    "np.split(y, [3, 5, 6, 10])"
   ]
  },
  {
   "cell_type": "markdown",
   "metadata": {},
   "source": [
    "### IO操作与数据处理"
   ]
  },
  {
   "cell_type": "code",
   "execution_count": 2,
   "metadata": {},
   "outputs": [],
   "source": [
    "import numpy as np\n",
    "data = np.genfromtxt(\"test.csv\", delimiter=\",\")\n",
    "# 从本地读取一个test.csv文件中的内容"
   ]
  },
  {
   "cell_type": "code",
   "execution_count": 6,
   "metadata": {},
   "outputs": [
    {
     "data": {
      "text/plain": [
       "array([[  nan,   nan,   nan,   nan],\n",
       "       [  1. , 123. ,   1.4,  23. ],\n",
       "       [  2. , 110. ,   nan,  18. ],\n",
       "       [  3. ,   nan,   2.1,  19. ]])"
      ]
     },
     "execution_count": 6,
     "metadata": {},
     "output_type": "execute_result"
    }
   ],
   "source": [
    "data    #中文和空缺地方会出现nan，表示缺少数据，如果想要处理十分麻烦，但用pandas会变得很简单\n"
   ]
  },
  {
   "cell_type": "code",
   "execution_count": 5,
   "metadata": {},
   "outputs": [
    {
     "data": {
      "text/plain": [
       "numpy.ndarray"
      ]
     },
     "execution_count": 5,
     "metadata": {},
     "output_type": "execute_result"
    }
   ],
   "source": []
  },
  {
   "cell_type": "code",
   "execution_count": null,
   "metadata": {},
   "outputs": [],
   "source": []
  },
  {
   "cell_type": "code",
   "execution_count": null,
   "metadata": {},
   "outputs": [],
   "source": []
  },
  {
   "cell_type": "code",
   "execution_count": null,
   "metadata": {},
   "outputs": [],
   "source": []
  }
 ],
 "metadata": {
  "kernelspec": {
   "display_name": "Python 3",
   "language": "python",
   "name": "python3"
  },
  "language_info": {
   "codemirror_mode": {
    "name": "ipython",
    "version": 3
   },
   "file_extension": ".py",
   "mimetype": "text/x-python",
   "name": "python",
   "nbconvert_exporter": "python",
   "pygments_lexer": "ipython3",
   "version": "3.8.5"
  }
 },
 "nbformat": 4,
 "nbformat_minor": 4
}
