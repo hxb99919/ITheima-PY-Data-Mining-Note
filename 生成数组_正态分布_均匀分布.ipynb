{
 "cells": [
  {
   "cell_type": "markdown",
   "metadata": {},
   "source": [
    "### 生成0和1的数组"
   ]
  },
  {
   "cell_type": "code",
   "execution_count": 3,
   "metadata": {},
   "outputs": [
    {
     "data": {
      "text/plain": [
       "array([[0., 0., 0., 0.],\n",
       "       [0., 0., 0., 0.],\n",
       "       [0., 0., 0., 0.]], dtype=float32)"
      ]
     },
     "execution_count": 3,
     "metadata": {},
     "output_type": "execute_result"
    }
   ],
   "source": [
    "import numpy as np\n",
    "# 生成0和1的数组\n",
    "np.zeros(shape=(3, 4), dtype=\"float32\")"
   ]
  },
  {
   "cell_type": "code",
   "execution_count": 4,
   "metadata": {},
   "outputs": [
    {
     "data": {
      "text/plain": [
       "array([[1., 1., 1., 1.],\n",
       "       [1., 1., 1., 1.],\n",
       "       [1., 1., 1., 1.]], dtype=float32)"
      ]
     },
     "execution_count": 4,
     "metadata": {},
     "output_type": "execute_result"
    }
   ],
   "source": [
    "np.ones(shape=(3, 4), dtype=\"float32\")"
   ]
  },
  {
   "cell_type": "markdown",
   "metadata": {},
   "source": [
    "### 从现有数组生成\n"
   ]
  },
  {
   "cell_type": "code",
   "execution_count": 17,
   "metadata": {},
   "outputs": [],
   "source": [
    "score = np.array([[80, 89, 86, 67, 79],\n",
    "                [78, 97, 89, 67 ,81],\n",
    "                [90, 94, 78, 67, 74],\n",
    "                [91, 91, 90, 67, 69],\n",
    "                [76, 87, 75, 67, 86],\n",
    "                [70, 79, 84, 67, 84],\n",
    "                [94, 92, 93, 67, 64],\n",
    "                [86, 85, 83, 67, 80]])\n",
    "\n",
    "# np.array()\n",
    "data1 = np.array(score)\n",
    "\n",
    "# np.asarray()\n",
    "data2 = np.asarray(score)\n",
    "\n",
    "# np.copy()\n",
    "data3 = np.copy(score)"
   ]
  },
  {
   "cell_type": "code",
   "execution_count": 9,
   "metadata": {},
   "outputs": [
    {
     "data": {
      "text/plain": [
       "array([[80, 89, 86, 67, 79],\n",
       "       [78, 97, 89, 67, 81],\n",
       "       [90, 94, 78, 67, 74],\n",
       "       [91, 91, 90, 67, 69],\n",
       "       [76, 87, 75, 67, 86],\n",
       "       [70, 79, 84, 67, 84],\n",
       "       [94, 92, 93, 67, 64],\n",
       "       [86, 85, 83, 67, 80]])"
      ]
     },
     "execution_count": 9,
     "metadata": {},
     "output_type": "execute_result"
    }
   ],
   "source": [
    "data1"
   ]
  },
  {
   "cell_type": "code",
   "execution_count": 11,
   "metadata": {},
   "outputs": [
    {
     "data": {
      "text/plain": [
       "array([[80, 89, 86, 67, 79],\n",
       "       [78, 97, 89, 67, 81],\n",
       "       [90, 94, 78, 67, 74],\n",
       "       [91, 91, 90, 67, 69],\n",
       "       [76, 87, 75, 67, 86],\n",
       "       [70, 79, 84, 67, 84],\n",
       "       [94, 92, 93, 67, 64],\n",
       "       [86, 85, 83, 67, 80]])"
      ]
     },
     "execution_count": 11,
     "metadata": {},
     "output_type": "execute_result"
    }
   ],
   "source": [
    "score"
   ]
  },
  {
   "cell_type": "code",
   "execution_count": 12,
   "metadata": {},
   "outputs": [],
   "source": [
    "score[3, 1] = 10000"
   ]
  },
  {
   "cell_type": "code",
   "execution_count": 13,
   "metadata": {},
   "outputs": [
    {
     "data": {
      "text/plain": [
       "array([[   80,    89,    86,    67,    79],\n",
       "       [   78,    97,    89,    67,    81],\n",
       "       [   90,    94,    78,    67,    74],\n",
       "       [   91, 10000,    90,    67,    69],\n",
       "       [   76,    87,    75,    67,    86],\n",
       "       [   70,    79,    84,    67,    84],\n",
       "       [   94,    92,    93,    67,    64],\n",
       "       [   86,    85,    83,    67,    80]])"
      ]
     },
     "execution_count": 13,
     "metadata": {},
     "output_type": "execute_result"
    }
   ],
   "source": [
    "score"
   ]
  },
  {
   "cell_type": "code",
   "execution_count": 14,
   "metadata": {},
   "outputs": [
    {
     "data": {
      "text/plain": [
       "array([[80, 89, 86, 67, 79],\n",
       "       [78, 97, 89, 67, 81],\n",
       "       [90, 94, 78, 67, 74],\n",
       "       [91, 91, 90, 67, 69],\n",
       "       [76, 87, 75, 67, 86],\n",
       "       [70, 79, 84, 67, 84],\n",
       "       [94, 92, 93, 67, 64],\n",
       "       [86, 85, 83, 67, 80]])"
      ]
     },
     "execution_count": 14,
     "metadata": {},
     "output_type": "execute_result"
    }
   ],
   "source": [
    "data1"
   ]
  },
  {
   "cell_type": "code",
   "execution_count": 15,
   "metadata": {},
   "outputs": [
    {
     "data": {
      "text/plain": [
       "array([[   80,    89,    86,    67,    79],\n",
       "       [   78,    97,    89,    67,    81],\n",
       "       [   90,    94,    78,    67,    74],\n",
       "       [   91, 10000,    90,    67,    69],\n",
       "       [   76,    87,    75,    67,    86],\n",
       "       [   70,    79,    84,    67,    84],\n",
       "       [   94,    92,    93,    67,    64],\n",
       "       [   86,    85,    83,    67,    80]])"
      ]
     },
     "execution_count": 15,
     "metadata": {},
     "output_type": "execute_result"
    }
   ],
   "source": [
    "data2"
   ]
  },
  {
   "cell_type": "code",
   "execution_count": 18,
   "metadata": {},
   "outputs": [
    {
     "data": {
      "text/plain": [
       "array([[80, 89, 86, 67, 79],\n",
       "       [78, 97, 89, 67, 81],\n",
       "       [90, 94, 78, 67, 74],\n",
       "       [91, 91, 90, 67, 69],\n",
       "       [76, 87, 75, 67, 86],\n",
       "       [70, 79, 84, 67, 84],\n",
       "       [94, 92, 93, 67, 64],\n",
       "       [86, 85, 83, 67, 80]])"
      ]
     },
     "execution_count": 18,
     "metadata": {},
     "output_type": "execute_result"
    }
   ],
   "source": [
    "data3"
   ]
  },
  {
   "cell_type": "code",
   "execution_count": null,
   "metadata": {},
   "outputs": [],
   "source": [
    "# np.array()    np.(copy)    深拷贝\n",
    "# np.asarray()    浅拷贝\n"
   ]
  },
  {
   "cell_type": "markdown",
   "metadata": {},
   "source": [
    "### 生成固定范围的数组"
   ]
  },
  {
   "cell_type": "code",
   "execution_count": 19,
   "metadata": {},
   "outputs": [
    {
     "data": {
      "text/plain": [
       "array([ 0. ,  2.5,  5. ,  7.5, 10. ])"
      ]
     },
     "execution_count": 19,
     "metadata": {},
     "output_type": "execute_result"
    }
   ],
   "source": [
    "np.linspace(0, 10, 5)    # [0, 10] 左右都闭合，5是数量， 5等分"
   ]
  },
  {
   "cell_type": "code",
   "execution_count": 21,
   "metadata": {},
   "outputs": [
    {
     "data": {
      "text/plain": [
       "array([ 0,  5, 10])"
      ]
     },
     "execution_count": 21,
     "metadata": {},
     "output_type": "execute_result"
    }
   ],
   "source": [
    "np.arange(0, 11, 5)    # [0, 11) 左闭右开， 5是步长\n",
    "# range(a, b, c) 上下两个函数几乎相同，应该只是计算速度不同"
   ]
  },
  {
   "cell_type": "markdown",
   "metadata": {},
   "source": [
    "### 生成随机数组"
   ]
  },
  {
   "cell_type": "code",
   "execution_count": 9,
   "metadata": {},
   "outputs": [
    {
     "data": {
      "image/png": "[encoded data removed]",
      "text/plain": [
       "<Figure size 1600x640 with 1 Axes>"
      ]
     },
     "metadata": {
      "needs_background": "light"
     },
     "output_type": "display_data"
    }
   ],
   "source": [
    "import numpy as np\n",
    "import matplotlib.pyplot as plt\n",
    "\n",
    "# 生成一百万个均匀分布\n",
    "data1 = np.random.uniform(low=-1, high=1, size=1000000)   \n",
    "\n",
    "# 1、创建画布\n",
    "plt.figure(figsize=(20, 8), dpi=80)\n",
    "\n",
    "# 2、绘制直方图\n",
    "plt.hist(data1, 1000)\n",
    "\n",
    "# 3、显示图像\n",
    "plt.show()"
   ]
  },
  {
   "cell_type": "markdown",
   "metadata": {},
   "source": [
    "### 正态分布"
   ]
  },
  {
   "cell_type": "code",
   "execution_count": 11,
   "metadata": {},
   "outputs": [
    {
     "data": {
      "image/png": "[encoded data removed]",
      "text/plain": [
       "<Figure size 1600x640 with 1 Axes>"
      ]
     },
     "metadata": {
      "needs_background": "light"
     },
     "output_type": "display_data"
    }
   ],
   "source": [
    "# 正态分布\n",
    "data2 = np.random.normal(loc=1.75, scale=0.1, size=1000000)\n",
    "# loc是对称中心   scale是分布范围，scale越大，分布越广，幅度越平缓     size是数量\n",
    "\n",
    "# 1、创建画布\n",
    "plt.figure(figsize=(20, 8), dpi=80)\n",
    "\n",
    "# 2、绘制直方图\n",
    "plt.hist(data2, 1000)\n",
    "\n",
    "# 3、显示图像\n",
    "plt.show()"
   ]
  },
  {
   "cell_type": "markdown",
   "metadata": {},
   "source": [
    "### 随机生成8只股票2周的交易日涨幅数据    2周周末不算一共10个交易日"
   ]
  },
  {
   "cell_type": "code",
   "execution_count": 12,
   "metadata": {},
   "outputs": [],
   "source": [
    "stock_change = np.random.normal(loc=0, scale=1, size=(8, 10))    # 8是8个列表股票， 10是10天, 生成的是一个二维数组\n",
    "\n",
    "# 获取第一个股票的前3个交易日的涨跌幅数据\n",
    "stock_change[0, 0:3]"
   ]
  },
  {
   "cell_type": "code",
   "execution_count": 14,
   "metadata": {},
   "outputs": [],
   "source": [
    "a1 = np.array([[[1, 2, 3], [4, 5, 6]], [[12, 3, 34], [5, 6, 7]]])"
   ]
  },
  {
   "cell_type": "code",
   "execution_count": 15,
   "metadata": {},
   "outputs": [
    {
     "data": {
      "text/plain": [
       "array([[[ 1,  2,  3],\n",
       "        [ 4,  5,  6]],\n",
       "\n",
       "       [[12,  3, 34],\n",
       "        [ 5,  6,  7]]])"
      ]
     },
     "execution_count": 15,
     "metadata": {},
     "output_type": "execute_result"
    }
   ],
   "source": [
    "a1    # （2， 2, 3） 三维数组"
   ]
  },
  {
   "cell_type": "code",
   "execution_count": null,
   "metadata": {},
   "outputs": [],
   "source": [
    "# ndarray.reshape(shape) 返回新的ndarray，原始数据没有改变\n",
    "# ndaaray.resize(shape) 没有返回值，对原始的ndarray进行了修改\n",
    "# ndarray.T 转置 行变成列，列变成行  [0, 9] 变成了 [9, 0]\n",
    "# 不演示了， 不明显"
   ]
  },
  {
   "cell_type": "markdown",
   "metadata": {},
   "source": [
    "### 类型修改"
   ]
  },
  {
   "cell_type": "code",
   "execution_count": 16,
   "metadata": {},
   "outputs": [
    {
     "data": {
      "text/plain": [
       "array([[ 1,  0,  2,  1,  0,  0,  0,  0,  0,  0],\n",
       "       [ 0,  0,  0, -1, -1,  1,  0,  0,  0, -1],\n",
       "       [ 0,  0, -1,  0,  1,  0, -1,  0, -1,  0],\n",
       "       [ 0, -1,  0,  1,  0,  0,  0,  1,  0,  1],\n",
       "       [ 0,  0, -1,  1,  0,  0,  0,  1,  0,  0],\n",
       "       [ 0,  0,  2,  0,  0,  0,  0,  0,  1,  0],\n",
       "       [ 0,  1,  0,  0,  0,  0,  0,  1,  0,  0],\n",
       "       [ 1,  1,  0, -1,  0,  0,  0,  0,  0,  1]])"
      ]
     },
     "execution_count": 16,
     "metadata": {},
     "output_type": "execute_result"
    }
   ],
   "source": [
    "stock_change.astype(\"int32\")"
   ]
  },
  {
   "cell_type": "code",
   "execution_count": 21,
   "metadata": {
    "collapsed": true
   },
   "outputs": [
    {
     "data": {
      "text/plain": [
       "b'\\x93\\xae\\x06\\x06\\xb8\\xde\\xf3?\\x1f\\xf3m\\x7f\\x0b\\x9dd?\\x074\\xb7,\\x1c\\x81\\x01@0\\x08?w\\xe0\\xa1\\xf2?z\\xf5\\x82\\x9b\\xab\\xb2\\xd2?C\\xe8%1\\xd3\\xb2\\xcc\\xbf`\\x99\\xa9\\x86Uh\\xd8\\xbfP\\xbapu\\xc3\\x98\\xdd\\xbf\\xea\\xb8\\xdd\\xc3U\\x1d\\xd9?\\xb3}\\xb4<\\x12\\x17\\xd9\\xbf\\xb8b\\xc6\\xf2Q\\xa3\\xd6\\xbf!\\xc4F\\xb6\\x9b\\x8f\\xab?ez\\xffn\\xb1\\xc8\\xe5?\\x10\\x1d\\xee3\\xe9*\\xf0\\xbf\\x1e\\xfac\\xcf\\x88\\xfe\\xf0\\xbfs\\xf3\\xcb\\x04G\\xec\\xf0?D\\x9b\\x19\\x01Tu}?]\\x8d\\tf\\xddG\\xd4\\xbf\\xb3\\xb48\\x1a\\x9c\\x13\\xa6?\\x90\\tb\\xc3f\\x83\\xf4\\xbf\\xb6\\rD\\x13\\x02\\xa6\\xc0?f\\xb0\\xd0)Nh\\xd1\\xbf\\x95R\\xa8e:\\xe1\\xf9\\xbfN\\x0b\\xe7)\\xbf\\xc1\\xef?\\x1e:d\\xed\\x81-\\xf3?\\xb6\\xd8_\\xdb\\xb7\\x13\\xde?\\xe7\\xe0\\xad+\\xab\\xa1\\xf3\\xbf\\xe8\\xd8\\xebB\\x7f\\x94\\xd8?x\\xcb\\x851,u\\xf9\\xbfa\\xcf\\xf7\\xd9\\xd5\\xe1\\xd9\\xbf\\x81,:\\xed\\x0c\\xc8\\xb5\\xbfy\\x87\\xa0(\\x16$\\xf5\\xbf\\xf6y\\xe1\\xe1\\xe3\\xce\\xdf\\xbf\\xacjKu\\xec6\\xf4?\\x88<S\\x02\\xae%\\xe3?\\xb7\\xb3\\xfa\\x11\\x15`\\xed?\\xcd\\x8a\\'\\xd1\\xf7\\xe4\\xba?\\xc6\\x8e\\xa3\\xa7\\xef,\\xf3?\\x7f\\x89\\xe7\\xce\\xdb\\xfe\\xd2?T\\x96\\xcd\\xc7\\x9b\\xf5\\xf5?L\\xba\\x14$\\x85\\x9f\\xcc?\\xcfA\\xab\\xc7F\\xb7\\xd6?\\x0fA\\xb1O?\\r\\xff\\xbfg\\xc4\\x93O\\xce\\xcc\\xf3?\"%9\\xeb\\xc9\\xd6\\xea\\xbf\\xc3\\x93\\xa4\\x7f,}\\xd5?K\\xfd\\xfa\\xaf\\xbbW\\xe1?\\xfc\\xcd\\x82\\x89\\x84\\x87\\xf1?\\x9a-:\\x0cT\\xc6\\xea?F\\x1a\\xc3\\xce\\xdcq\\xdf?\\xb3{!\\xcd\\xa2\\xbc\\x9d?\\x9av\\x1e\\x7f\\xfe\\x14\\xe8?\\xe1\\x89W\\xf8\\x00X\\x03@F\\xf3\\x9f\\x075\\xa9\\xe8?\"\\xa4\\x9fU\\\\\\xbd\\xe5?`6\\xb4\\x08\\x03J\\xd6?\\x95mh\\x0c\\xb8y\\xe6?C\\xf6\\x16S\\xc2\\xc9\\xc3?\\xc5\\xebI\\xafB\\x82\\xf6?/\\x94\\x1bS?\\xbe\\xe5?\\xbf\\xee<\\xa1\\x8f4\\xe4\\xbfx6,\\x9fV\\x01\\xf0?\\xd0\\x07\\x929\\x921\\xb6\\xbf\\xbb\\x8c&\\xbf\\xa6]\\xe5?\\x8fN\\xeb\\xc3Cv\\xc5?M\\x1bM\\xd6\\xfa,\\xe1\\xbf\\x03p\\x02/\\xb3\\x0c\\xe8\\xbf\\xd3Q\\n\\x02z\\x1c\\xfb?\\xf5\\xa0n\\xf9\\xd7\"\\xca\\xbf\\x99;\\x1a\\x92\"\\x98\\xdf\\xbf%/\\x80\\'\\x0cE\\xf4?]V\\'\\xa2\\xc3^\\xf1?\\x06X\\x0bVNc\\xd9\\xbft\\xa6\\xbco\\xce\\xa5\\xfd\\xbf\\x12B\\xa6\\xd2\\x99\\xb8\\xe7?\\xb1$\\xe7\\x14)2\\xe0\\xbf\\xf1\\xe7\\xb5\\xbb\\'\\xdf\\x9c\\xbf|\\xc6\\x9cF\\xba\\xb1x\\xbf\\x88\\xf9\\xbfo\\xb6X\\xe1?\\xb8^\\x14\\xf1\\xab\\xe7\\xf0?'"
      ]
     },
     "execution_count": 21,
     "metadata": {},
     "output_type": "execute_result"
    }
   ],
   "source": [
    "stock_change.tobytes()  \n",
    "# 原来是tostring 转换成乱码一样的文本格式，但现在tostring似乎太老了，\n",
    "# 所以换成tobytes"
   ]
  },
  {
   "cell_type": "markdown",
   "metadata": {},
   "source": [
    "### 数组的去重"
   ]
  },
  {
   "cell_type": "code",
   "execution_count": 31,
   "metadata": {},
   "outputs": [],
   "source": [
    "temp = np.array([[1, 2, 3, 4], [3, 4, 5, 6]])\n"
   ]
  },
  {
   "cell_type": "code",
   "execution_count": 33,
   "metadata": {},
   "outputs": [
    {
     "data": {
      "text/plain": [
       "array([1, 2, 3, 4, 5, 6])"
      ]
     },
     "execution_count": 33,
     "metadata": {},
     "output_type": "execute_result"
    }
   ],
   "source": [
    "np.unique(temp)    # 去重"
   ]
  },
  {
   "cell_type": "code",
   "execution_count": null,
   "metadata": {},
   "outputs": [],
   "source": []
  }
 ],
 "metadata": {
  "kernelspec": {
   "display_name": "Python 3",
   "language": "python",
   "name": "python3"
  },
  "language_info": {
   "codemirror_mode": {
    "name": "ipython",
    "version": 3
   },
   "file_extension": ".py",
   "mimetype": "text/x-python",
   "name": "python",
   "nbconvert_exporter": "python",
   "pygments_lexer": "ipython3",
   "version": "3.8.5"
  }
 },
 "nbformat": 4,
 "nbformat_minor": 4
}
